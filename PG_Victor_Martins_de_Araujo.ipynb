{
  "nbformat": 4,
  "nbformat_minor": 0,
  "metadata": {
    "colab": {
      "provenance": [],
      "history_visible": true,
      "authorship_tag": "ABX9TyO1T0gBx+SG6bY00BNt/JY/",
      "include_colab_link": true
    },
    "kernelspec": {
      "name": "python3",
      "display_name": "Python 3"
    },
    "language_info": {
      "name": "python"
    }
  },
  "cells": [
    {
      "cell_type": "markdown",
      "metadata": {
        "id": "view-in-github",
        "colab_type": "text"
      },
      "source": [
        "<a href=\"https://colab.research.google.com/github/victorma969/projeto-de-graduacao/blob/main/PG_Victor_Martins_de_Araujo.ipynb\" target=\"_parent\"><img src=\"https://colab.research.google.com/assets/colab-badge.svg\" alt=\"Open In Colab\"/></a>"
      ]
    },
    {
      "cell_type": "markdown",
      "source": [
        "**Projeto de Graduação** \n",
        "\n",
        "*Aluno: Victor Martins de Araújo*\n",
        "\n",
        "*Orientador: Reinaldo Garcia Cipriano*\n",
        "\n"
      ],
      "metadata": {
        "id": "g5NZonsQsJ74"
      }
    },
    {
      "cell_type": "code",
      "source": [
        "import pandas as pd\n",
        "import numpy as np\n",
        "from google.colab import files"
      ],
      "metadata": {
        "id": "S5ms3da1At_j"
      },
      "execution_count": null,
      "outputs": []
    },
    {
      "cell_type": "code",
      "source": [
        "\n",
        "#Definindo custo de transporte\n",
        "def c(ftl,qtde):\n",
        "  a = 3100\n",
        "  if qtde <= ftl:\n",
        "      return a\n",
        "  elif qtde > ftl:\n",
        "      numero_carros = qtde//ftl\n",
        "  if qtde % ftl != 0:\n",
        "      numero_carros += 1\n",
        "\n",
        "  return numero_carros * a"
      ],
      "metadata": {
        "id": "Z81Q-kZtIglE"
      },
      "execution_count": null,
      "outputs": []
    },
    {
      "cell_type": "code",
      "source": [
        "#Definindo função de cálculo de custo de estoque\n",
        "def h(qtde,unit_price):\n",
        " custo_estoque = qtde * unit_price * 0.5247\n",
        " return custo_estoque"
      ],
      "metadata": {
        "id": "HwKBMOemNe5H"
      },
      "execution_count": null,
      "outputs": []
    },
    {
      "cell_type": "code",
      "execution_count": null,
      "metadata": {
        "id": "ZpcbZ1oksI_x"
      },
      "outputs": [],
      "source": [
        "#Definindo função de simulação\n",
        "def simulation_formula():\n",
        " #definindo os parâmetros (tempo de simulação, lead time,estoque incicial, políticas atuais)\n",
        " T = 365 \n",
        " L = 4 \n",
        " unit_price = 1.03\n",
        " ftl = 35000\n",
        "\n",
        " #definindo variáveis da simulação\n",
        " holding_costs = 0\n",
        " order_costs = 0\n",
        " custo_total = 0\n",
        " contador_falta = 0\n",
        " t1 = 0\n",
        " order = 0\n",
        " contador_pedidos = 0\n",
        "\n",
        " #definindo tabela do dataframe do output\n",
        " Resultados3 = pd.DataFrame(columns = ['Política','Custo Total','Custo Estoque','Custo Pedido','N Pedidos','N Faltas'])\n",
        "\n",
        " #início do loop para combinação das diferentes políticas no tempo T\n",
        " for s1 in range (300000,400000,500):\n",
        "\n",
        "      for s2 in range (100000,290000,500):\n",
        "\n",
        "            hct = []\n",
        "            oct = []\n",
        "            tc = []\n",
        "            tp = []\n",
        "            tf = []\n",
        "\n",
        "            for i in range (10):\n",
        "\n",
        "                custo_total = 0\n",
        "                order_costs = 0\n",
        "                stock = 250000 #estoque inicial\n",
        "                contador_falta = 0\n",
        "                contador_pedidos = 0\n",
        "                order = 0\n",
        "                holding_costs = 0\n",
        "\n",
        "                for i in range(1,T):\n",
        "\n",
        "                    holding_costs += h(stock,unit_price)\n",
        "\n",
        "                    if stock < 0:\n",
        "\n",
        "                      contador_falta +=1\n",
        "                      stock = 0\n",
        "\n",
        "                      #gerando demanda de produção\n",
        "                      demand = np.random.normal(45118,8034)\n",
        "\n",
        "                      #projetando estoque\n",
        "                      stock -= demand\n",
        "\n",
        "                      if i == t1:\n",
        "                          t1 = 0\n",
        "                          stock += order\n",
        "                          order = 0\n",
        "\n",
        "                      if stock < s2 and order == 0:\n",
        "                          t1 = i + L\n",
        "                          order = s1 - stock\n",
        "                          order_costs += c(ftl,order)\n",
        "                          contador_pedidos +=1\n",
        "\n",
        "                custo_total = holding_costs + order_costs\n",
        "                hct.append(holding_costs)\n",
        "                oct.append(order_costs)\n",
        "                tc.append(custo_total)\n",
        "                tp.append(contador_pedidos)\n",
        "                tf.append(contador_falta)\n",
        "\n",
        " #Inserindo dados resultantes no DataFrame \n",
        " Resultados3 = Resultados3.append({'Política': [s1,s2],\n",
        "                                  'Custo Total': sum(tc)/len(tc),\n",
        "                                  'Custo Estoque': sum(hct)/len(hct),\n",
        "                                  'Custo Pedido': sum(oct)/len(oct),\n",
        "                                  'N Pedidos': sum(tp)/len(tp),\n",
        "                                  'N Faltas':sum(tf)/len(tf)},\n",
        "                                  ignore_index=True)\n",
        "\n",
        "\n",
        " #exportar excel com dados da simulação\n",
        " output3 = Resultados3.to_excel('Resultados3.xlsx')\n",
        " files.download('Resultados3.xlsx')\n",
        " return output3\n",
        " return Resultados3\n"
      ]
    },
    {
      "cell_type": "code",
      "source": [
        "#chamada do programa\n",
        "simulation_formula()"
      ],
      "metadata": {
        "id": "JDFo9h0DRGhL",
        "colab": {
          "base_uri": "https://localhost:8080/",
          "height": 17
        },
        "outputId": "af404f81-66ac-461c-d2a2-d36b6b507909"
      },
      "execution_count": null,
      "outputs": [
        {
          "output_type": "display_data",
          "data": {
            "text/plain": [
              "<IPython.core.display.Javascript object>"
            ],
            "application/javascript": [
              "\n",
              "    async function download(id, filename, size) {\n",
              "      if (!google.colab.kernel.accessAllowed) {\n",
              "        return;\n",
              "      }\n",
              "      const div = document.createElement('div');\n",
              "      const label = document.createElement('label');\n",
              "      label.textContent = `Downloading \"${filename}\": `;\n",
              "      div.appendChild(label);\n",
              "      const progress = document.createElement('progress');\n",
              "      progress.max = size;\n",
              "      div.appendChild(progress);\n",
              "      document.body.appendChild(div);\n",
              "\n",
              "      const buffers = [];\n",
              "      let downloaded = 0;\n",
              "\n",
              "      const channel = await google.colab.kernel.comms.open(id);\n",
              "      // Send a message to notify the kernel that we're ready.\n",
              "      channel.send({})\n",
              "\n",
              "      for await (const message of channel.messages) {\n",
              "        // Send a message to notify the kernel that we're ready.\n",
              "        channel.send({})\n",
              "        if (message.buffers) {\n",
              "          for (const buffer of message.buffers) {\n",
              "            buffers.push(buffer);\n",
              "            downloaded += buffer.byteLength;\n",
              "            progress.value = downloaded;\n",
              "          }\n",
              "        }\n",
              "      }\n",
              "      const blob = new Blob(buffers, {type: 'application/binary'});\n",
              "      const a = document.createElement('a');\n",
              "      a.href = window.URL.createObjectURL(blob);\n",
              "      a.download = filename;\n",
              "      div.appendChild(a);\n",
              "      a.click();\n",
              "      div.remove();\n",
              "    }\n",
              "  "
            ]
          },
          "metadata": {}
        },
        {
          "output_type": "display_data",
          "data": {
            "text/plain": [
              "<IPython.core.display.Javascript object>"
            ],
            "application/javascript": [
              "download(\"download_95d40772-d0c2-4c72-b642-043ba16d21e2\", \"Resultados3.xlsx\", 5028)"
            ]
          },
          "metadata": {}
        }
      ]
    }
  ]
}