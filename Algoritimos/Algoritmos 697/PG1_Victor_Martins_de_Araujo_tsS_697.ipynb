{
  "cells": [
    {
      "cell_type": "markdown",
      "metadata": {
        "id": "IuKh7ztu6_1n"
      },
      "source": [
        "**Projeto de Graduação** \n",
        "\n",
        "*Aluno: Victor Martins de Araújo*\n",
        "\n",
        "*Orientador: Reinaldo Garcia Cipriano*\n",
        "\n",
        "*Política (t,s,S)*\n",
        "\n",
        "*Simulação para otimização de uma política de estoque baseada em estratégia mista, ponto de pedido (s), ritmo de pedido (t) e no limite superior de estoque (S)*"
      ]
    },
    {
      "cell_type": "code",
      "execution_count": 1,
      "metadata": {
        "id": "iDN3QRee6_1q"
      },
      "outputs": [],
      "source": [
        "import pandas as pd\n",
        "import numpy as np\n",
        "from google.colab import files"
      ]
    },
    {
      "cell_type": "code",
      "execution_count": 2,
      "metadata": {
        "id": "glsGg_GY6_1s"
      },
      "outputs": [],
      "source": [
        "#Definindo custo de transporte\n",
        "def c(ftl,quantity):\n",
        "  ftl_cost = 3100\n",
        "  if quantity <= ftl:\n",
        "      return ftl_cost\n",
        "  elif quantity > ftl:\n",
        "      num_cars = quantity//ftl\n",
        "  if quantity % ftl != 0:\n",
        "      num_cars += 1\n",
        "\n",
        "  return num_cars * ftl_cost"
      ]
    },
    {
      "cell_type": "code",
      "execution_count": 3,
      "metadata": {
        "id": "xojlQHGE6_1s"
      },
      "outputs": [],
      "source": [
        "#Definindo função de cálculo de custo de estoque\n",
        "def h(quantity,unit_price):\n",
        " if quantity < 0:\n",
        "    stock_cost = 0\n",
        " else:   \n",
        "    stock_cost = quantity * unit_price * 0.5247\n",
        " return stock_cost"
      ]
    },
    {
      "cell_type": "markdown",
      "metadata": {
        "id": "_X98aNiO6_1t"
      },
      "source": [
        "Estratégia Baseada no ritmo de consumo do estoque em dias e no ponto de pedido (t,s,S)"
      ]
    },
    {
      "cell_type": "code",
      "execution_count": 4,
      "metadata": {
        "id": "QSkSKDBq6_1t"
      },
      "outputs": [],
      "source": [
        "#Definindo função de simulação \n",
        "def simulation_formula_tsS():\n",
        "    #definindo os parâmetros (tempo de simulação, lead time,estoque incicial, políticas atuais)\n",
        "    T = 365 \n",
        "    unit_price = 0.887\n",
        "    ftl = 22500\n",
        "\n",
        "    #definindo variáveis da simulação produto 8864\n",
        "    holding_costs = 0\n",
        "    order_costs = 0\n",
        "    total_cost = 0\n",
        "    missing_count = 0\n",
        "    t1 = 0\n",
        "    t = 0\n",
        "    order = 0\n",
        "    order_count = 0\n",
        "    quantity_miss = 0\n",
        "\n",
        "    #definindo vetores para combinação de políticas\n",
        "    smax = list(range(200000,355000,5000))\n",
        "    smin = list(range(90000,250000,5000))\n",
        "    t_temp = list(range(1,20,1))\n",
        "\n",
        "    #definindo tabela do dataframe do output\n",
        "    Resultados_tsS = pd.DataFrame(columns = ['Política','Custo Total','Custo Estoque','Custo Pedido','N Pedidos','N Faltas'])\n",
        "\n",
        "    #início do loop para combinação das diferentes políticas no tempo T\n",
        "    for s_max in smax:\n",
        "        \n",
        "        for s_min in smin:\n",
        "\n",
        "            for temp in t_temp :\n",
        "                hct = []\n",
        "                oct = []\n",
        "                tc = []\n",
        "                tp = []\n",
        "                tf = []\n",
        "                lc = []\n",
        "\n",
        "                for i in range(100):\n",
        "\n",
        "                    total_cost = 0\n",
        "                    order_costs = 0\n",
        "                    stock = 150000 #estoque inicial\n",
        "                    missing_count = 0\n",
        "                    order_count = 0\n",
        "                    order = 0\n",
        "                    holding_costs = 0\n",
        "                    quantity_miss = 0\n",
        "\n",
        "                    #Simula a dinâmica do estoque para o período de um ano\n",
        "                    for i in range(1,T):\n",
        "\n",
        "                        holding_costs += h(stock,unit_price)\n",
        "\n",
        "                        #gerando demanda estocástica de produção \n",
        "                        demand = np.random.triangular(3170, 13000, 16300)  \n",
        "\n",
        "                        #projetando estoque\n",
        "                        stock -= demand\n",
        "\n",
        "                        #falta de estoque\n",
        "                        if stock < 0:\n",
        "                            quantity_miss += stock - demand\n",
        "                            missing_count += 1\n",
        "                            stock = 0\n",
        "                        \n",
        "                        #simulando a chegada do material em estoque\n",
        "                        if i == t1 and order > 0:\n",
        "                            t1 = 0\n",
        "                            stock += order\n",
        "                            order = 0\n",
        "\n",
        "                        #simulando pedido  baseado no ponto de pedido (s_min)\n",
        "                        if stock < s_min and order == 0:\n",
        "                            L = round(np.random.triangular(2.5, 9, 12.5),0)\n",
        "                            t1 = i + L\n",
        "                            order = s_max - stock\n",
        "                            order_costs += c(ftl,order)\n",
        "                            order_count +=1\n",
        "\n",
        "                        #simulando pedido  baseado no rítimo de pedidos (t)\n",
        "                        if t == temp and order == 0:\n",
        "                            #gerando lead time estocástico\n",
        "                            L = round(np.random.triangular(2.5, 9, 12.5),0)\n",
        "                            t1 = i + L\n",
        "                            t = 0\n",
        "                            order = s_max - stock\n",
        "                            order_costs += c(ftl,order)\n",
        "                            order_count +=1\n",
        "\n",
        "                        #atualiza o contador de tempo  \n",
        "                        t += 1\n",
        "\n",
        "                    total_cost = holding_costs + order_costs\n",
        "\n",
        "                    hct.append(holding_costs)\n",
        "                    oct.append(order_costs)\n",
        "                    tc.append(total_cost)\n",
        "                    tp.append(order_count)\n",
        "                    tf.append(missing_count)\n",
        "                    lc.append(quantity_miss)   \n",
        "\n",
        "                #Inserindo dados resultantes no DataFrame \n",
        "                Resultados_tsS = Resultados_tsS.append({'Política': [temp,s_min,s_max],\n",
        "                                                'Custo Total': sum(tc)/len(tc),\n",
        "                                                'Custo Estoque': sum(hct)/len(hct),\n",
        "                                                'Custo Pedido': sum(oct)/len(oct),\n",
        "                                                'N Pedidos': sum(tp)/len(tp),\n",
        "                                                'N Faltas':sum(tf)/len(tf),\n",
        "                                                'Qtd Faltando': sum(lc)/len(lc)},\n",
        "                                                ignore_index=True)\n",
        "\n",
        "          \n",
        "\n",
        "    #exportar excel com dados da simulação\n",
        "    output = Resultados_tsS.to_excel('Resultados_tsS_697.xlsx')\n",
        "\n",
        "    files.download('Resultados_tsS_697.xlsx')\n",
        "    return output\n",
        "    return Resultados_tsS\n"
      ]
    },
    {
      "cell_type": "code",
      "execution_count": 5,
      "metadata": {
        "colab": {
          "base_uri": "https://localhost:8080/",
          "height": 182
        },
        "id": "DNClicRJ6_1v",
        "outputId": "c7fe1209-887f-48a1-e704-3fea719b1f40"
      },
      "outputs": [
        {
          "output_type": "error",
          "ename": "NameError",
          "evalue": "ignored",
          "traceback": [
            "\u001b[0;31m---------------------------------------------------------------------------\u001b[0m",
            "\u001b[0;31mNameError\u001b[0m                                 Traceback (most recent call last)",
            "\u001b[0;32m<ipython-input-5-cce85786613f>\u001b[0m in \u001b[0;36m<cell line: 2>\u001b[0;34m()\u001b[0m\n\u001b[1;32m      1\u001b[0m \u001b[0;31m#chamada da função de simulação\u001b[0m\u001b[0;34m\u001b[0m\u001b[0;34m\u001b[0m\u001b[0m\n\u001b[0;32m----> 2\u001b[0;31m \u001b[0msimulation_formula_sS\u001b[0m\u001b[0;34m(\u001b[0m\u001b[0;34m)\u001b[0m\u001b[0;34m\u001b[0m\u001b[0;34m\u001b[0m\u001b[0m\n\u001b[0m",
            "\u001b[0;31mNameError\u001b[0m: name 'simulation_formula_sS' is not defined"
          ]
        }
      ],
      "source": [
        "7#chamada da função de simulação\n",
        "simulation_formula_sS()"
      ]
    }
  ],
  "metadata": {
    "kernelspec": {
      "display_name": "base",
      "language": "python",
      "name": "python3"
    },
    "language_info": {
      "codemirror_mode": {
        "name": "ipython",
        "version": 3
      },
      "file_extension": ".py",
      "mimetype": "text/x-python",
      "name": "python",
      "nbconvert_exporter": "python",
      "pygments_lexer": "ipython3",
      "version": "3.9.13"
    },
    "orig_nbformat": 4,
    "colab": {
      "provenance": []
    }
  },
  "nbformat": 4,
  "nbformat_minor": 0
}